{
  "nbformat": 4,
  "nbformat_minor": 0,
  "metadata": {
    "colab": {
      "provenance": []
    },
    "kernelspec": {
      "name": "python3",
      "display_name": "Python 3"
    },
    "language_info": {
      "name": "python"
    }
  },
  "cells": [
    {
      "cell_type": "code",
      "source": [
        "!pip install surprise"
      ],
      "metadata": {
        "colab": {
          "base_uri": "https://localhost:8080/"
        },
        "id": "oDV51jok9xji",
        "outputId": "0b2bd209-dc1b-44a5-a7a6-a58bbc485a67"
      },
      "execution_count": 11,
      "outputs": [
        {
          "output_type": "stream",
          "name": "stdout",
          "text": [
            "Collecting surprise\n",
            "  Downloading surprise-0.1-py2.py3-none-any.whl (1.8 kB)\n",
            "Collecting scikit-surprise (from surprise)\n",
            "  Downloading scikit-surprise-1.1.3.tar.gz (771 kB)\n",
            "\u001b[2K     \u001b[90m━━━━━━━━━━━━━━━━━━━━━━━━━━━━━━━━━━━━━━━━\u001b[0m \u001b[32m772.0/772.0 kB\u001b[0m \u001b[31m8.5 MB/s\u001b[0m eta \u001b[36m0:00:00\u001b[0m\n",
            "\u001b[?25h  Preparing metadata (setup.py) ... \u001b[?25l\u001b[?25hdone\n",
            "Requirement already satisfied: joblib>=1.0.0 in /usr/local/lib/python3.10/dist-packages (from scikit-surprise->surprise) (1.3.2)\n",
            "Requirement already satisfied: numpy>=1.17.3 in /usr/local/lib/python3.10/dist-packages (from scikit-surprise->surprise) (1.23.5)\n",
            "Requirement already satisfied: scipy>=1.3.2 in /usr/local/lib/python3.10/dist-packages (from scikit-surprise->surprise) (1.11.3)\n",
            "Building wheels for collected packages: scikit-surprise\n",
            "  Building wheel for scikit-surprise (setup.py) ... \u001b[?25l\u001b[?25hdone\n",
            "  Created wheel for scikit-surprise: filename=scikit_surprise-1.1.3-cp310-cp310-linux_x86_64.whl size=3163338 sha256=1378b84391e18ec9ac2f29b39a4145b57066da29abf23783d2b9a16395acac9c\n",
            "  Stored in directory: /root/.cache/pip/wheels/a5/ca/a8/4e28def53797fdc4363ca4af740db15a9c2f1595ebc51fb445\n",
            "Successfully built scikit-surprise\n",
            "Installing collected packages: scikit-surprise, surprise\n",
            "Successfully installed scikit-surprise-1.1.3 surprise-0.1\n"
          ]
        }
      ]
    },
    {
      "cell_type": "code",
      "source": [
        "from surprise import Dataset, SVD, SVDpp, NMF\n",
        "from surprise.model_selection import cross_validate"
      ],
      "metadata": {
        "id": "w43ktRd_8mUp"
      },
      "execution_count": 16,
      "outputs": []
    },
    {
      "cell_type": "code",
      "source": [
        "data = Dataset.load_builtin('ml-100k')"
      ],
      "metadata": {
        "colab": {
          "base_uri": "https://localhost:8080/"
        },
        "id": "q6uqEXF1AieE",
        "outputId": "ae349451-a0d3-4d11-dc26-14f03c4824b0"
      },
      "execution_count": 14,
      "outputs": [
        {
          "output_type": "stream",
          "name": "stdout",
          "text": [
            "Dataset ml-100k could not be found. Do you want to download it? [Y/n] y\n",
            "Trying to download dataset from https://files.grouplens.org/datasets/movielens/ml-100k.zip...\n",
            "Done! Dataset ml-100k has been saved to /root/.surprise_data/ml-100k\n"
          ]
        }
      ]
    },
    {
      "cell_type": "code",
      "source": [
        "for algo in (SVD(), SVDpp(), NMF()):\n",
        "    results = cross_validate(algo, data, measures=['RMSE', 'MAE'], cv=5, verbose=True)"
      ],
      "metadata": {
        "colab": {
          "base_uri": "https://localhost:8080/"
        },
        "id": "OFpL1sgU8e1l",
        "outputId": "1d2837f7-37f9-41f4-e70d-d04021ea85b7"
      },
      "execution_count": 21,
      "outputs": [
        {
          "output_type": "stream",
          "name": "stdout",
          "text": [
            "Evaluating RMSE, MAE of algorithm SVD on 5 split(s).\n",
            "\n",
            "                  Fold 1  Fold 2  Fold 3  Fold 4  Fold 5  Mean    Std     \n",
            "RMSE (testset)    0.9434  0.9241  0.9383  0.9442  0.9396  0.9379  0.0072  \n",
            "MAE (testset)     0.7409  0.7304  0.7397  0.7437  0.7416  0.7393  0.0046  \n",
            "Fit time          2.10    1.32    1.29    1.29    1.29    1.46    0.32    \n",
            "Test time         0.61    0.12    0.26    0.13    0.14    0.25    0.19    \n",
            "Evaluating RMSE, MAE of algorithm SVDpp on 5 split(s).\n",
            "\n",
            "                  Fold 1  Fold 2  Fold 3  Fold 4  Fold 5  Mean    Std     \n",
            "RMSE (testset)    0.9225  0.9123  0.9270  0.9128  0.9187  0.9187  0.0057  \n",
            "MAE (testset)     0.7216  0.7184  0.7248  0.7149  0.7231  0.7205  0.0035  \n",
            "Fit time          27.77   28.50   28.99   27.46   27.56   28.06   0.59    \n",
            "Test time         5.91    4.88    4.08    4.99    5.08    4.99    0.58    \n",
            "Evaluating RMSE, MAE of algorithm NMF on 5 split(s).\n",
            "\n",
            "                  Fold 1  Fold 2  Fold 3  Fold 4  Fold 5  Mean    Std     \n",
            "RMSE (testset)    0.9604  0.9655  0.9544  0.9680  0.9610  0.9619  0.0047  \n",
            "MAE (testset)     0.7573  0.7609  0.7498  0.7591  0.7553  0.7565  0.0038  \n",
            "Fit time          1.95    1.97    1.97    2.91    2.16    2.19    0.37    \n",
            "Test time         0.10    0.33    0.10    0.18    0.28    0.20    0.09    \n"
          ]
        }
      ]
    },
    {
      "cell_type": "markdown",
      "source": [
        "Оптимальним буде алгоритм SVDpp, оскільки він має найнижчі показники Mean RMSE та Mean MAE."
      ],
      "metadata": {
        "id": "O_qrMlx_LDuK"
      }
    }
  ]
}